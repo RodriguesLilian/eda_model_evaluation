{
 "cells": [
  {
   "cell_type": "markdown",
   "id": "1b6e0fa4-8b73-4fed-b96a-f808a677fc85",
   "metadata": {},
   "source": [
    "\n",
    "# Model Evaluation (scikit-learn)\n"
   ]
  },
  {
   "cell_type": "markdown",
   "id": "0d5f75c2-697f-4233-8beb-87c229df759c",
   "metadata": {},
   "source": [
    "<h2> Table of contents </h2>\n",
    "\n",
    "0. [Introduction](#Introduction)\n",
    "1. [Import of packages](#Packages)\n",
    "2. [Import of functions](#Functions)\n",
    "3. [Modeling](#Modeling)\n",
    "4. [Evaluation](#Evaluation)\n"
   ]
  },
  {
   "cell_type": "markdown",
   "id": "01f2e325-c05c-4967-ac7a-d88b3486f0b1",
   "metadata": {
    "tags": []
   },
   "source": [
    "\n",
    "<section id=\"Introduction\">\n",
    "    <h2> 0. Introduction </h2>\n",
    "</section>\n"
   ]
  },
  {
   "cell_type": "markdown",
   "id": "aace33be-0f27-423c-8795-99a38135f723",
   "metadata": {},
   "source": [
    "This is a file with functions that aim to facilitate the performance analysis of models. As output, the functions provide graphs, metrics, and basic tables used in the analysis process. Pay attention to the functions parameters:\n",
    "\n",
    "- **final_model**: developed model\n",
    "    > Save as **final_model_*type***\n",
    "\n",
    "&nbsp;\n",
    "\n",
    "- **model**: type of developed model:\n",
    "    - **lgbm**: Light Gradient Boosting Machine;\n",
    "    - **loglin**: Linear Regression;\n",
    "    - **logreg**: Logistic Regression;\n",
    "\n",
    "&nbsp;\n",
    "\n",
    "- **X**: test or validation database;\n",
    "\n",
    "&nbsp;\n",
    "\n",
    "- **y**: test or validation target;"
   ]
  },
  {
   "cell_type": "markdown",
   "id": "14aa4e2f-65f7-4d73-a816-26d3ff3666c3",
   "metadata": {},
   "source": [
    "\n",
    "---\n"
   ]
  },
  {
   "cell_type": "markdown",
   "id": "2ed0fcf3-f148-419c-9e8f-9879773cd5b1",
   "metadata": {
    "tags": []
   },
   "source": [
    "\n",
    "<section id=\"Packages\">\n",
    "    <h2> 1. Import of packages </h2>\n",
    "<section id=\"Packages\">\n",
    "    "
   ]
  },
  {
   "cell_type": "code",
   "execution_count": 101,
   "id": "b31c0482-1102-49ba-863b-e8643bea247e",
   "metadata": {},
   "outputs": [],
   "source": [
    "#!pip install PySimpleGUI"
   ]
  },
  {
   "cell_type": "code",
   "execution_count": null,
   "id": "068f73ac-9f22-4577-97ea-edaa55ab7110",
   "metadata": {},
   "outputs": [],
   "source": [
    "from sklearn.datasets import load_breast_cancer\n",
    "\n",
    "import joblib\n",
    "from fast_ml.model_development import train_valid_test_split\n",
    "\n",
    "# graphics ands tables\n",
    "from scipy import stats\n",
    "import matplotlib as mp\n",
    "import matplotlib.pyplot as plt\n",
    "import numpy as np\n",
    "import pandas as pd\n",
    "import seaborn as sns\n",
    "import sklearn.metrics\n",
    "\n",
    "from sklearn.metrics import auc\n",
    "from sklearn.metrics import confusion_matrix\n",
    "from sklearn.metrics import precision_recall_curve\n",
    "from sklearn.metrics import roc_auc_score\n",
    "from sklearn.metrics import roc_curve\n",
    "\n",
    "# interative interface\n",
    "import ipywidgets as widgets\n",
    "from IPython.display import display"
   ]
  },
  {
   "cell_type": "markdown",
   "id": "2e30edad-52c0-4e0a-ba90-7a37862d20c1",
   "metadata": {},
   "source": [
    "\n",
    "---\n"
   ]
  },
  {
   "cell_type": "markdown",
   "id": "8ca6291b-8b24-4db8-91f5-7d3e55ae9797",
   "metadata": {},
   "source": [
    "\n",
    "<section id=\"Functions\">\n",
    "   <h2> 2. Import of functions </h2>\n",
    "<section id=\"Functions\">\n"
   ]
  },
  {
   "cell_type": "code",
   "execution_count": 71,
   "id": "e36d0646-ead2-4fee-a617-77fd8b9acff1",
   "metadata": {},
   "outputs": [
    {
     "name": "stdout",
     "output_type": "stream",
     "text": [
      "/home/744ef240-a25d-4872-a66e-1d945ea1adf7/model_analysis/jupyter_notebooks\n"
     ]
    }
   ],
   "source": [
    "import os\n",
    "print(os.getcwd())"
   ]
  },
  {
   "cell_type": "code",
   "execution_count": null,
   "id": "e77cb3b7-b3b6-471a-9940-60dfa3355cbe",
   "metadata": {},
   "outputs": [],
   "source": [
    "%run \"/home/744ef240-a25d-4872-a66e-1d945ea1adf7/model_analysis/jupyter_notebooks/evaluation/model_analysis-evaluation-functions.ipynb\""
   ]
  },
  {
   "cell_type": "markdown",
   "id": "f4f7cfa2-8bae-428c-be2e-213a3f8d4eb9",
   "metadata": {},
   "source": [
    "\n",
    "---\n"
   ]
  },
  {
   "cell_type": "markdown",
   "id": "02dddca5-27f5-491f-826a-2bb9ec5512a4",
   "metadata": {},
   "source": [
    "\n",
    "<section id=\"Modeling\">\n",
    "    <h2> 3. Modeling </h2>\n",
    "<section id=\"Modeling\"> \n",
    "    "
   ]
  },
  {
   "cell_type": "code",
   "execution_count": null,
   "id": "f8f16ff2-7044-480e-ad55-339a56a81c20",
   "metadata": {},
   "outputs": [],
   "source": []
  },
  {
   "cell_type": "markdown",
   "id": "d029834e-5f4b-47e3-b1af-6ce9d5919a97",
   "metadata": {},
   "source": [
    "\n",
    "---\n"
   ]
  },
  {
   "cell_type": "markdown",
   "id": "247d612b-e4ee-469b-8fca-e33a378d8536",
   "metadata": {},
   "source": [
    "\n",
    "<section id=\"Evaluation\">\n",
    "    <h2> 4. Evaluation </h2>\n",
    "<section id=\"Evaluation\"> \n",
    "    "
   ]
  },
  {
   "cell_type": "code",
   "execution_count": null,
   "id": "7327ddde-0d5b-44d4-b759-234224c613b2",
   "metadata": {},
   "outputs": [],
   "source": [
    "y_pred_proba = pd.DataFrame(y_pred_test_rf)"
   ]
  },
  {
   "cell_type": "code",
   "execution_count": null,
   "id": "a04cc322-7fab-445b-bb78-0d743393e508",
   "metadata": {},
   "outputs": [],
   "source": [
    "evaluation_BinaryClassification_graphs('rf', y_pred_test_rf, 0.6, X_validation)"
   ]
  }
 ],
 "metadata": {
  "kernelspec": {
   "display_name": "anaconda-panel-2023.05-py310",
   "language": "python",
   "name": "conda-env-anaconda-panel-2023.05-py310-py"
  },
  "language_info": {
   "codemirror_mode": {
    "name": "ipython",
    "version": 3
   },
   "file_extension": ".py",
   "mimetype": "text/x-python",
   "name": "python",
   "nbconvert_exporter": "python",
   "pygments_lexer": "ipython3",
   "version": "3.11.4"
  }
 },
 "nbformat": 4,
 "nbformat_minor": 5
}
