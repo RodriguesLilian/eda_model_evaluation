{
 "cells": [
  {
   "cell_type": "markdown",
   "id": "1b6e0fa4-8b73-4fed-b96a-f808a677fc85",
   "metadata": {},
   "source": [
    "\n",
    "# Exploratory data analysis: functions\n"
   ]
  },
  {
   "cell_type": "markdown",
   "id": "0d5f75c2-697f-4233-8beb-87c229df759c",
   "metadata": {},
   "source": [
    "## Table of contents\n",
    "\n",
    "0. [Introduction](#Introduction)\n",
    "1. [Import of packages](#Packages)\n",
    "2. [Functions definitions](#Functions)\n",
    "    1. [Initial informations ](#InitialFunctions)\n",
    "    2. [Overview](#OverviewFunctions)\n",
    "    3. [Categorical Variables distributions](#CategoricalDistributionsFunctions)\n",
    "    4. [Numeric Variables distributions](#NumericDistributionsFunctions)\n",
    "    5. [Target proportion](#ProportionFunctions)\n",
    "    6. [Variables Correlation](#VariablesCorrelation)\n"
   ]
  },
  {
   "cell_type": "markdown",
   "id": "01f2e325-c05c-4967-ac7a-d88b3486f0b1",
   "metadata": {},
   "source": [
    "\n",
    "<section id=\"Introduction\">\n",
    "    <h2> 0. Introduction </h2>\n",
    "</section>\n"
   ]
  },
  {
   "cell_type": "markdown",
   "id": "aace33be-0f27-423c-8795-99a38135f723",
   "metadata": {},
   "source": [
    "This is a file with functions that aim to facilitate exploratory data analysis. As output, the functions provide graphs, metrics, and basic tables commonly used in the analysis process. Pay attention to the function parameters:\n",
    "\n",
    "- **df_origin**: single pandas dataframe;\n",
    "\n",
    "<br>\n",
    "\n",
    "- **X_train**: pandas train dataframe;\n",
    "- **X_test**: pandas test dataframe;\n",
    "- **X_validation**: pandas validation dataframe;\n",
    "\n",
    "<br>\n",
    "\n",
    "- **y_train**: train target;\n",
    "- **y_test**: test target;\n",
    "- **y_validation**: validation target;"
   ]
  },
  {
   "cell_type": "markdown",
   "id": "14aa4e2f-65f7-4d73-a816-26d3ff3666c3",
   "metadata": {},
   "source": [
    "\n",
    "---\n"
   ]
  },
  {
   "cell_type": "markdown",
   "id": "2ed0fcf3-f148-419c-9e8f-9879773cd5b1",
   "metadata": {
    "tags": []
   },
   "source": [
    "\n",
    "<section id=\"Packages\">\n",
    "    <h2> 1. Import of packages </h2>\n",
    "</section>\n"
   ]
  },
  {
   "cell_type": "code",
   "execution_count": 9,
   "id": "b31c0482-1102-49ba-863b-e8643bea247e",
   "metadata": {},
   "outputs": [],
   "source": [
    "#!pip install"
   ]
  },
  {
   "cell_type": "code",
   "execution_count": 32,
   "id": "068f73ac-9f22-4577-97ea-edaa55ab7110",
   "metadata": {},
   "outputs": [],
   "source": [
    "from sklearn.datasets import load_breast_cancer\n",
    "\n",
    "from fast_ml import eda\n",
    "from fast_ml.model_development import train_valid_test_split\n",
    "from fast_ml.utilities import reduce_memory_usage, display_all\n",
    "\n",
    "import matplotlib.pyplot as plt\n",
    "import numpy as np\n",
    "import pandas as pd\n",
    "import pickle # pickle\n",
    "import pyarrow\n",
    "import seaborn as sns\n",
    "\n",
    "# interative interface\n",
    "import ipywidgets as widgets\n",
    "from IPython.display import display"
   ]
  },
  {
   "cell_type": "markdown",
   "id": "7b380b59-a36a-4705-bc0f-03eb089aa35f",
   "metadata": {},
   "source": [
    "---"
   ]
  },
  {
   "cell_type": "markdown",
   "id": "2f34f7ee-2eb1-4e6a-a1b9-a69025f44ee3",
   "metadata": {
    "tags": []
   },
   "source": [
    "\n",
    "<section id=\"Functions\">\n",
    "    <h2> 2. Functions definitions </h2>\n",
    "</section>\n"
   ]
  },
  {
   "cell_type": "markdown",
   "id": "15d8be40-71d5-4f01-98f8-a71f6b8506f8",
   "metadata": {},
   "source": [
    "\n",
    "<section id=\"InitialFunctions\">\n",
    "    <h3> 2.1. Initial informations </h3>\n",
    "</section>\n"
   ]
  },
  {
   "cell_type": "code",
   "execution_count": 15,
   "id": "54d00020-d1e0-4b39-80f7-5230930ce962",
   "metadata": {},
   "outputs": [],
   "source": [
    "def eda_initial_informations(df):\n",
    "    \n",
    "    num_rows, num_columns = df.shape\n",
    "    index = df.index\n",
    "    \n",
    "    print('Number of rows:', num_rows)\n",
    "    print('Number of columns:', num_columns)\n",
    "    print('Index:', index)"
   ]
  },
  {
   "cell_type": "markdown",
   "id": "88b73d98-d73f-42c3-a203-77ecddf1ab4d",
   "metadata": {
    "tags": []
   },
   "source": [
    "\n",
    "<section id=\"OverviewFunctions\">\n",
    "    <h3> 2.2. Overview </h3>\n",
    "</section>\n"
   ]
  },
  {
   "cell_type": "code",
   "execution_count": 17,
   "id": "fa01c249-409c-4642-b149-cfad5ee893b4",
   "metadata": {},
   "outputs": [],
   "source": [
    " def eda_overview(df):\n",
    "    summary_df = eda.df_info(df)\n",
    "    display_all(summary_df)"
   ]
  },
  {
   "cell_type": "code",
   "execution_count": 92,
   "id": "8b7922fe-f4bc-4ccb-a580-1c2f68485234",
   "metadata": {},
   "outputs": [],
   "source": [
    "def eda_summary_table(df):\n",
    "    num_no_missing_occurrences = df.apply(lambda x: x.notnull().sum())\n",
    "    num_missing = df.apply(lambda x: x.isnull().sum())\n",
    "    num_total_occurrences = num_no_missing_occurrences + num_missing\n",
    "    percent_missing = ((num_missing / num_total_occurrences)*100).round().astype(int)\n",
    "    num_unique_occurrences = df.apply(lambda x: x.nunique())\n",
    "    formats = df.dtypes\n",
    "    types = formats.apply(lambda x: \n",
    "        'Numeric' if x in ['float64', 'int64'] else \n",
    "        'Categorical' if x == 'object' else \n",
    "        'Datetime' if x == 'datetime64[ns]' else 'Outro'\n",
    "    )    \n",
    "    \n",
    "    variable_order = range(1, len(df.columns) + 1)\n",
    "        \n",
    "    summary_table = pd.DataFrame({\n",
    "        'Variable Order': variable_order,\n",
    "        'Number of total occurrences': num_total_occurrences,\n",
    "        'Number of no missing occurreces': num_no_missing_occurrences,\n",
    "        'Number of missing': num_missing,\n",
    "        'Percent of missing (%)': percent_missing,      \n",
    "        'Number of unique no missing occurrences': num_unique_occurrences,\n",
    "        'Format': formats,\n",
    "        'Type': types\n",
    "    })\n",
    "    \n",
    "    return summary_table\n",
    "\n"
   ]
  },
  {
   "cell_type": "markdown",
   "id": "b28d926b-00a8-4efd-aa95-83a5914eb5c6",
   "metadata": {
    "tags": []
   },
   "source": [
    "\n",
    "<section id=\"CategoricalDistributionsFunctions\">\n",
    "    <h3> 2.3. Categorical Variables distributions </h3>\n",
    "</section>\n"
   ]
  },
  {
   "cell_type": "code",
   "execution_count": 152,
   "id": "537c096a-a18d-475c-8d43-9b563c961552",
   "metadata": {},
   "outputs": [],
   "source": [
    "def eda_categorical_variables_distributions(dataframe1, dataframe2, n_start, n_end):\n",
    "    if n_end <= n_start:\n",
    "        print('Error: n_end must be greater than n_start.')\n",
    "        return\n",
    "    \n",
    "    variables = dataframe1.columns[n_start:n_end]\n",
    "    num_variables = len(variables)\n",
    "    \n",
    "    if num_variables <= 0:\n",
    "        print('Error: Invalid range of columns.')\n",
    "        return\n",
    "    \n",
    "    num_cols = 2\n",
    "    num_rows = (num_variables + 1) // num_cols\n",
    "    fig, axes = plt.subplots(num_rows, num_cols, figsize=(15, 4*num_rows))\n",
    "    \n",
    "    if num_rows == 1 and num_cols == 1:\n",
    "        axes = [axes]\n",
    "    else:\n",
    "        axes = axes.flatten()\n",
    "    \n",
    "    for i, var in enumerate(variables):\n",
    "        # Count unique values in each category for both dataframes\n",
    "        counts_df1 = dataframe1[var].value_counts()\n",
    "        counts_df2 = dataframe2[var].value_counts()\n",
    "        \n",
    "        # Get unique categories from both dataframes and sort them alphabetically\n",
    "        categories = sorted(set(counts_df1.index) | set(counts_df2.index))\n",
    "        \n",
    "        # Create a horizontal bar plot for each category\n",
    "        y_ticks = list(range(len(categories)))\n",
    "        y_labels = list(categories)\n",
    "        x_values_df1 = [counts_df1.get(category, 0) for category in categories]\n",
    "        x_values_df2 = [counts_df2.get(category, 0) for category in categories]\n",
    "        \n",
    "        axes[i].barh(y_ticks, x_values_df1, height=0.4, color='skyblue', label='Dataframe 1')\n",
    "        axes[i].barh([y + 0.4 for y in y_ticks], x_values_df2, height=0.4, color='orange', label='Dataframe 2')\n",
    "        axes[i].set_yticks([y + 0.2 for y in y_ticks])\n",
    "        axes[i].set_yticklabels(y_labels, rotation='horizontal')\n",
    "        axes[i].set_ylabel(var)\n",
    "        axes[i].set_xlabel('Frequency')\n",
    "\n",
    "        # Adiciona os valores do rótulo à direita de cada barra horizontal\n",
    "        for y, x1, x2 in zip(y_ticks, x_values_df1, x_values_df2):\n",
    "            axes[i].text(x1 + 0.05 * max(x1, x2), y, str(x1), va='center', fontsize=9)\n",
    "            axes[i].text(x2 + 0.05 * max(x1, x2), y + 0.4, str(x2), va='center', fontsize=9)\n",
    "\n",
    "        # Aumenta a largura da borda para os rótulos ficarem dentro dela\n",
    "        max_x_value = max(max(x_values_df1), max(x_values_df2))\n",
    "        axes[i].set_xlim(0, max_x_value + 0.2 * max_x_value)\n",
    "        \n",
    "        # Ajusta a posição da legenda\n",
    "        axes[i].legend(loc='upper right', bbox_to_anchor=(1, 1))\n",
    "\n",
    "    for j in range(i + 1, len(axes)):\n",
    "        fig.delaxes(axes[j])\n",
    "    \n",
    "    plt.tight_layout()\n",
    "    plt.show()"
   ]
  },
  {
   "cell_type": "markdown",
   "id": "32147a72-7b86-46c9-aba4-fb645f8d126a",
   "metadata": {
    "tags": []
   },
   "source": [
    "\n",
    "<section id=\"NumericDistributionsFunctions\">\n",
    "    <h3> 2.4. Numeric Variables distributions </h3>\n",
    "</section>\n"
   ]
  },
  {
   "cell_type": "code",
   "execution_count": 115,
   "id": "e9ffc91a-1a5b-4bea-a90e-10137db3d877",
   "metadata": {},
   "outputs": [],
   "source": [
    "def eda_numeric_variables_distributions(dataframe1, dataframe2, n_start, n_end):\n",
    "    if n_end <= n_start:\n",
    "        print('Error: n_end must be greater than n_start.')\n",
    "        return\n",
    "    \n",
    "    variables = dataframe1.columns[n_start:n_end]\n",
    "    num_variables = len(variables)\n",
    "    \n",
    "    if num_variables <= 0:\n",
    "        print('Error: Invalid range of columns.')\n",
    "        return\n",
    "    \n",
    "    num_cols = 2\n",
    "    num_rows = (num_variables + 1) // num_cols\n",
    "    fig, axes = plt.subplots(num_rows, num_cols, figsize=(15, 4*num_rows))\n",
    "    \n",
    "    if num_rows == 1 and num_cols == 1:\n",
    "        axes = [axes]\n",
    "    else:\n",
    "        axes = axes.flatten()\n",
    "    \n",
    "    for i, var in enumerate(variables):\n",
    "        axes[i].hist(dataframe1[var], bins=20, color='skyblue', alpha=0.5, label='Dataframe 1', log=True)\n",
    "        axes[i].hist(dataframe2[var], bins=20, color='orange', alpha=0.5, label='Dataframe 2', log=True)\n",
    "        #axes[i].set_title(var)\n",
    "        axes[i].set_xlabel(var)\n",
    "        axes[i].set_ylabel('Frequency')\n",
    "        axes[i].legend()\n",
    "    \n",
    "    for j in range(i + 1, len(axes)):\n",
    "        fig.delaxes(axes[j])\n",
    "    \n",
    "    plt.tight_layout()\n",
    "    plt.show()"
   ]
  },
  {
   "cell_type": "markdown",
   "id": "ea4a3e1d-1afc-415f-a775-49378673a9b3",
   "metadata": {
    "tags": []
   },
   "source": [
    "\n",
    "<section id=\"ProportionFunctions\">\n",
    "    <h3> 2.5. Target proportion </h3>\n",
    "</section>\n"
   ]
  },
  {
   "cell_type": "code",
   "execution_count": 82,
   "id": "d66e44f8-41ba-49cf-90fc-22266dba8533",
   "metadata": {},
   "outputs": [],
   "source": [
    "def eda_target_distribution(original_series, train_series, test_series, validation_series):\n",
    "    labels = ['Class 0', 'Class 1']  # Defina os rótulos apropriados para suas classes\n",
    "    \n",
    "    # Crie subplots para os quatro gráficos de pizza\n",
    "    fig, axes = plt.subplots(2, 2, figsize=(15, 10))\n",
    "    fig.suptitle('Target Distribution Comparison', fontsize=16)\n",
    "    axes = axes.flatten()\n",
    "\n",
    "    series_data = [original_series, train_series, test_series, validation_series]\n",
    "    titles = ['Original Series', 'Train Series', 'Test Series', 'Validation Series']\n",
    "    \n",
    "    for ax, data, title in zip(axes, series_data, titles):\n",
    "        class_counts = [len(data[data == 0]), len(data[data == 1])]  # Calcule a contagem de classes 0 e 1\n",
    "        \n",
    "        wedges, texts, autotexts = ax.pie(class_counts, labels=labels, startangle=90, colors=['palegreen', 'lightcoral'],\n",
    "                                          wedgeprops={'edgecolor': 'black'}, autopct='%1.1f%%')\n",
    "        ax.axis('equal')  # Proporção igual para garantir que o gráfico de pizza seja um círculo\n",
    "        ax.set_title(title)\n",
    "\n",
    "        # Adicione o número absoluto das classes aos rótulos\n",
    "        for autotext, count in zip(autotexts, class_counts):\n",
    "            autotext.set(size=12, fontweight='bold')\n",
    "            autotext.set_text(f'{count}\\n({autotext.get_text()})')\n",
    "\n",
    "    plt.tight_layout(rect=[0, 0.03, 1, 0.95])\n",
    "    plt.show()"
   ]
  },
  {
   "cell_type": "markdown",
   "id": "2f87c5ae-5f2c-4bc1-8a53-dfc53d9d5085",
   "metadata": {
    "tags": []
   },
   "source": [
    "\n",
    "<section id=\"VariablesCorrelation\">\n",
    "    <h3> 2.6. Variables Correlation </h3>\n",
    "</section>\n"
   ]
  },
  {
   "cell_type": "code",
   "execution_count": 166,
   "id": "027add92-578c-4de5-b138-ac831ae6df29",
   "metadata": {},
   "outputs": [],
   "source": [
    "def eda_variables_correlation(df):\n",
    "    correlation_matrix = df.corr()\n",
    "\n",
    "    plt.figure(figsize=(25, 15))\n",
    "    sns.heatmap(data=correlation_matrix, annot=True, cmap='coolwarm', fmt=\".3f\", linewidths=.5, annot_kws={\"size\": 9})\n",
    "    plt.title('Variables correlation matrix')\n",
    "    plt.show()"
   ]
  },
  {
   "cell_type": "code",
   "execution_count": null,
   "id": "a57f0493-0aa2-4115-aaeb-c3d8978c881e",
   "metadata": {},
   "outputs": [],
   "source": []
  }
 ],
 "metadata": {
  "kernelspec": {
   "display_name": "anaconda-panel-2023.05-py310",
   "language": "python",
   "name": "conda-env-anaconda-panel-2023.05-py310-py"
  },
  "language_info": {
   "codemirror_mode": {
    "name": "ipython",
    "version": 3
   },
   "file_extension": ".py",
   "mimetype": "text/x-python",
   "name": "python",
   "nbconvert_exporter": "python",
   "pygments_lexer": "ipython3",
   "version": "3.11.4"
  }
 },
 "nbformat": 4,
 "nbformat_minor": 5
}
