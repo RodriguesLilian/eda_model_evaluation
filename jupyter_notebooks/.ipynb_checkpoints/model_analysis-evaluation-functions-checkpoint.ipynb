{
 "cells": [
  {
   "cell_type": "markdown",
   "id": "1b6e0fa4-8b73-4fed-b96a-f808a677fc85",
   "metadata": {},
   "source": [
    "\n",
    "# Model Evaluation (scikit-learn)\n"
   ]
  },
  {
   "cell_type": "markdown",
   "id": "0d5f75c2-697f-4233-8beb-87c229df759c",
   "metadata": {},
   "source": [
    "<h2> Table of contents </h2>\n",
    "\n",
    "0. [Introduction](#Introduction)\n",
    "1. [Import of packages](#Packages)\n",
    "2. [Import of data](#Data)\n",
    "    1. [Spliting the dataframe](#Spliting)\n",
    "3. [Fuctions definitions](#Fuctions)\n",
    "    1. [Binary Classification](#Binary)\n",
    "        1. [Binary Classification Sumary](#BinarySumary)\n",
    "        2. [precision_recall_curve](#precision_recall_curve)\n",
    "        3. [roc_curve](#roc_curve)\n",
    "        4. [class_likelihood_ratios](#class_likelihood_ratios)\n",
    "        5. [det_curve](#det_curve)\n",
    "    2. [Multiclass Classification](#Multiclass)\n",
    "        1. [balanced_accuracy_score](#balanced_accuracy_score)\n",
    "        2. [cohen_kappa_score](#cohen_kappa_score)\n",
    "        3. [confusion_matrix](#confusion_matrix)\n",
    "        4. [hinge_loss](#hinge_loss)\n",
    "        5. [matthews_corrcoef](#matthews_corrcoef)\n",
    "        6. [roc_auc_score](#roc_auc_score)\n",
    "        7. [top_k_accuracy_score](#top_k_accuracy_score)\n",
    "    3. [Multilabel Classification](#Multiclass)\n",
    "        1. [accuracy_score](#accuracy_score)\n",
    "        2. [classification_report](#classification_report)\n",
    "        3. [f1_score](#f1_score)\n",
    "        4. [fbeta_score](#fbeta_score)\n",
    "        5. [hamming_loss](#hamming_loss)\n",
    "        6. [jaccard_score](#jaccard_score)\n",
    "        7. [log_loss](#log_loss)\n",
    "        8. [multilabel_confusion_matrix](#multilabel_confusion_matrix)\n",
    "        9. [precision_recall_fscore_support](#precision_recall_fscore_support)\n",
    "        10. [precision_score](#precision_score)\n",
    "        11. [recall_score](#recall_score)\n",
    "        12. [roc_auc_score](#roc_auc_score)\n",
    "        13. [zero_one_loss](#zero_one_loss)\n",
    "    4. [Clustering](#Clustering)\n",
    "    5. [Regression](#Regression)\n",
    "        1. [mean_squared_error](#mean_squared_error)\n",
    "4. [Results](#Results)\n",
    "    1. [Binary Classification](#ResultsBinary)\n",
    "    2. [Multiclass Classification](#ResultsMulticlass)\n",
    "    3. [Multilabel Classification](#ResultsMultilabel)\n",
    "    4. [Clustering](#ResultsClustering)\n",
    "    5. [Regression](#ResultsRegression)"
   ]
  },
  {
   "cell_type": "markdown",
   "id": "01f2e325-c05c-4967-ac7a-d88b3486f0b1",
   "metadata": {
    "tags": []
   },
   "source": [
    "<section id=\"Introduction\">\n",
    "    <h2> 0. Introduction </h2>\n",
    "</section>"
   ]
  },
  {
   "cell_type": "markdown",
   "id": "aace33be-0f27-423c-8795-99a38135f723",
   "metadata": {},
   "source": [
    "This is a file with functions that aim to facilitate the performance analysis of models. As output, the functions provide graphs, metrics, and basic tables used in the analysis process. Pay attention to the functions parameters:\n",
    "\n",
    "- **final_model**: developed model\n",
    "    > Save as **final_model_*type***\n",
    "\n",
    "&nbsp;\n",
    "\n",
    "- **model**: type of developed model:\n",
    "    - **lgbm**: Light Gradient Boosting Machine;\n",
    "    - **loglin**: Linear Regression;\n",
    "    - **logreg**: Logistic Regression;\n",
    "\n",
    "&nbsp;\n",
    "\n",
    "- **X**: test or validation database;\n",
    "\n",
    "&nbsp;\n",
    "\n",
    "- **y**: test or validation target;"
   ]
  },
  {
   "cell_type": "markdown",
   "id": "14aa4e2f-65f7-4d73-a816-26d3ff3666c3",
   "metadata": {},
   "source": [
    "\n",
    "---\n"
   ]
  },
  {
   "cell_type": "markdown",
   "id": "2ed0fcf3-f148-419c-9e8f-9879773cd5b1",
   "metadata": {
    "tags": []
   },
   "source": [
    "\n",
    "<section id=\"Packages\">\n",
    "    <h2> 1. Import of packages </h2>\n",
    "<section id=\"Packages\">"
   ]
  },
  {
   "cell_type": "code",
   "execution_count": 101,
   "id": "b31c0482-1102-49ba-863b-e8643bea247e",
   "metadata": {},
   "outputs": [],
   "source": [
    "#!pip install PySimpleGUI"
   ]
  },
  {
   "cell_type": "code",
   "execution_count": 102,
   "id": "068f73ac-9f22-4577-97ea-edaa55ab7110",
   "metadata": {},
   "outputs": [],
   "source": [
    "from sklearn.datasets import load_breast_cancer\n",
    "\n",
    "from sklearn.ensemble import RandomForestClassifier\n",
    "from sklearn.model_selection import GridSearchCV\n",
    "import joblib\n",
    "from fast_ml.model_development import train_valid_test_split\n",
    "from fast_ml.utilities import reduce_memory_usage, display_all\n",
    "\n",
    "# graphics ands tables\n",
    "from scipy import stats\n",
    "import matplotlib as mp\n",
    "import matplotlib.pyplot as plt\n",
    "import numpy as np\n",
    "import pandas as pd\n",
    "import seaborn as sns\n",
    "import sklearn.metrics\n",
    "\n",
    "from sklearn.metrics import auc\n",
    "from sklearn.metrics import confusion_matrix\n",
    "from sklearn.metrics import precision_recall_curve\n",
    "from sklearn.metrics import roc_auc_score\n",
    "from sklearn.metrics import roc_curve\n",
    "\n",
    "# interative interface\n",
    "import ipywidgets as widgets\n",
    "from IPython.display import display"
   ]
  },
  {
   "cell_type": "markdown",
   "id": "2e30edad-52c0-4e0a-ba90-7a37862d20c1",
   "metadata": {},
   "source": [
    "\n",
    "---\n"
   ]
  },
  {
   "cell_type": "markdown",
   "id": "8ca6291b-8b24-4db8-91f5-7d3e55ae9797",
   "metadata": {},
   "source": [
    "\n",
    "<section id=\"Data\">\n",
    "   <h2> 2. Import of data </h2>\n",
    "<section id=\"Data\">\n"
   ]
  },
  {
   "cell_type": "code",
   "execution_count": 106,
   "id": "82d3222c-f005-4b0e-87b5-401065388589",
   "metadata": {},
   "outputs": [],
   "source": [
    "X_origin, y_origin = load_breast_cancer(return_X_y=True, as_frame=True)"
   ]
  },
  {
   "cell_type": "code",
   "execution_count": 108,
   "id": "3f36c95f-d6ce-488e-adcb-6ca45f5a1005",
   "metadata": {},
   "outputs": [],
   "source": [
    "y_dataframe = pd.DataFrame(y_origin, columns=['target'])"
   ]
  },
  {
   "cell_type": "code",
   "execution_count": 109,
   "id": "b59c4692-2bb1-4a70-a57d-06cfb8c0b5d1",
   "metadata": {},
   "outputs": [],
   "source": [
    "df_origin = pd.concat([X_origin, y_dataframe], axis=1)"
   ]
  },
  {
   "cell_type": "code",
   "execution_count": 110,
   "id": "5a52717e-97fc-4d26-a8aa-12f1116a254f",
   "metadata": {},
   "outputs": [
    {
     "data": {
      "text/html": [
       "<div>\n",
       "<style scoped>\n",
       "    .dataframe tbody tr th:only-of-type {\n",
       "        vertical-align: middle;\n",
       "    }\n",
       "\n",
       "    .dataframe tbody tr th {\n",
       "        vertical-align: top;\n",
       "    }\n",
       "\n",
       "    .dataframe thead th {\n",
       "        text-align: right;\n",
       "    }\n",
       "</style>\n",
       "<table border=\"1\" class=\"dataframe\">\n",
       "  <thead>\n",
       "    <tr style=\"text-align: right;\">\n",
       "      <th></th>\n",
       "      <th>mean radius</th>\n",
       "      <th>mean texture</th>\n",
       "      <th>mean perimeter</th>\n",
       "      <th>mean area</th>\n",
       "      <th>mean smoothness</th>\n",
       "      <th>mean compactness</th>\n",
       "      <th>mean concavity</th>\n",
       "      <th>mean concave points</th>\n",
       "      <th>mean symmetry</th>\n",
       "      <th>mean fractal dimension</th>\n",
       "      <th>...</th>\n",
       "      <th>worst texture</th>\n",
       "      <th>worst perimeter</th>\n",
       "      <th>worst area</th>\n",
       "      <th>worst smoothness</th>\n",
       "      <th>worst compactness</th>\n",
       "      <th>worst concavity</th>\n",
       "      <th>worst concave points</th>\n",
       "      <th>worst symmetry</th>\n",
       "      <th>worst fractal dimension</th>\n",
       "      <th>target</th>\n",
       "    </tr>\n",
       "  </thead>\n",
       "  <tbody>\n",
       "    <tr>\n",
       "      <th>0</th>\n",
       "      <td>17.99</td>\n",
       "      <td>10.38</td>\n",
       "      <td>122.80</td>\n",
       "      <td>1001.0</td>\n",
       "      <td>0.11840</td>\n",
       "      <td>0.27760</td>\n",
       "      <td>0.30010</td>\n",
       "      <td>0.14710</td>\n",
       "      <td>0.2419</td>\n",
       "      <td>0.07871</td>\n",
       "      <td>...</td>\n",
       "      <td>17.33</td>\n",
       "      <td>184.60</td>\n",
       "      <td>2019.0</td>\n",
       "      <td>0.16220</td>\n",
       "      <td>0.66560</td>\n",
       "      <td>0.7119</td>\n",
       "      <td>0.2654</td>\n",
       "      <td>0.4601</td>\n",
       "      <td>0.11890</td>\n",
       "      <td>0</td>\n",
       "    </tr>\n",
       "    <tr>\n",
       "      <th>1</th>\n",
       "      <td>20.57</td>\n",
       "      <td>17.77</td>\n",
       "      <td>132.90</td>\n",
       "      <td>1326.0</td>\n",
       "      <td>0.08474</td>\n",
       "      <td>0.07864</td>\n",
       "      <td>0.08690</td>\n",
       "      <td>0.07017</td>\n",
       "      <td>0.1812</td>\n",
       "      <td>0.05667</td>\n",
       "      <td>...</td>\n",
       "      <td>23.41</td>\n",
       "      <td>158.80</td>\n",
       "      <td>1956.0</td>\n",
       "      <td>0.12380</td>\n",
       "      <td>0.18660</td>\n",
       "      <td>0.2416</td>\n",
       "      <td>0.1860</td>\n",
       "      <td>0.2750</td>\n",
       "      <td>0.08902</td>\n",
       "      <td>0</td>\n",
       "    </tr>\n",
       "    <tr>\n",
       "      <th>2</th>\n",
       "      <td>19.69</td>\n",
       "      <td>21.25</td>\n",
       "      <td>130.00</td>\n",
       "      <td>1203.0</td>\n",
       "      <td>0.10960</td>\n",
       "      <td>0.15990</td>\n",
       "      <td>0.19740</td>\n",
       "      <td>0.12790</td>\n",
       "      <td>0.2069</td>\n",
       "      <td>0.05999</td>\n",
       "      <td>...</td>\n",
       "      <td>25.53</td>\n",
       "      <td>152.50</td>\n",
       "      <td>1709.0</td>\n",
       "      <td>0.14440</td>\n",
       "      <td>0.42450</td>\n",
       "      <td>0.4504</td>\n",
       "      <td>0.2430</td>\n",
       "      <td>0.3613</td>\n",
       "      <td>0.08758</td>\n",
       "      <td>0</td>\n",
       "    </tr>\n",
       "    <tr>\n",
       "      <th>3</th>\n",
       "      <td>11.42</td>\n",
       "      <td>20.38</td>\n",
       "      <td>77.58</td>\n",
       "      <td>386.1</td>\n",
       "      <td>0.14250</td>\n",
       "      <td>0.28390</td>\n",
       "      <td>0.24140</td>\n",
       "      <td>0.10520</td>\n",
       "      <td>0.2597</td>\n",
       "      <td>0.09744</td>\n",
       "      <td>...</td>\n",
       "      <td>26.50</td>\n",
       "      <td>98.87</td>\n",
       "      <td>567.7</td>\n",
       "      <td>0.20980</td>\n",
       "      <td>0.86630</td>\n",
       "      <td>0.6869</td>\n",
       "      <td>0.2575</td>\n",
       "      <td>0.6638</td>\n",
       "      <td>0.17300</td>\n",
       "      <td>0</td>\n",
       "    </tr>\n",
       "    <tr>\n",
       "      <th>4</th>\n",
       "      <td>20.29</td>\n",
       "      <td>14.34</td>\n",
       "      <td>135.10</td>\n",
       "      <td>1297.0</td>\n",
       "      <td>0.10030</td>\n",
       "      <td>0.13280</td>\n",
       "      <td>0.19800</td>\n",
       "      <td>0.10430</td>\n",
       "      <td>0.1809</td>\n",
       "      <td>0.05883</td>\n",
       "      <td>...</td>\n",
       "      <td>16.67</td>\n",
       "      <td>152.20</td>\n",
       "      <td>1575.0</td>\n",
       "      <td>0.13740</td>\n",
       "      <td>0.20500</td>\n",
       "      <td>0.4000</td>\n",
       "      <td>0.1625</td>\n",
       "      <td>0.2364</td>\n",
       "      <td>0.07678</td>\n",
       "      <td>0</td>\n",
       "    </tr>\n",
       "    <tr>\n",
       "      <th>...</th>\n",
       "      <td>...</td>\n",
       "      <td>...</td>\n",
       "      <td>...</td>\n",
       "      <td>...</td>\n",
       "      <td>...</td>\n",
       "      <td>...</td>\n",
       "      <td>...</td>\n",
       "      <td>...</td>\n",
       "      <td>...</td>\n",
       "      <td>...</td>\n",
       "      <td>...</td>\n",
       "      <td>...</td>\n",
       "      <td>...</td>\n",
       "      <td>...</td>\n",
       "      <td>...</td>\n",
       "      <td>...</td>\n",
       "      <td>...</td>\n",
       "      <td>...</td>\n",
       "      <td>...</td>\n",
       "      <td>...</td>\n",
       "      <td>...</td>\n",
       "    </tr>\n",
       "    <tr>\n",
       "      <th>564</th>\n",
       "      <td>21.56</td>\n",
       "      <td>22.39</td>\n",
       "      <td>142.00</td>\n",
       "      <td>1479.0</td>\n",
       "      <td>0.11100</td>\n",
       "      <td>0.11590</td>\n",
       "      <td>0.24390</td>\n",
       "      <td>0.13890</td>\n",
       "      <td>0.1726</td>\n",
       "      <td>0.05623</td>\n",
       "      <td>...</td>\n",
       "      <td>26.40</td>\n",
       "      <td>166.10</td>\n",
       "      <td>2027.0</td>\n",
       "      <td>0.14100</td>\n",
       "      <td>0.21130</td>\n",
       "      <td>0.4107</td>\n",
       "      <td>0.2216</td>\n",
       "      <td>0.2060</td>\n",
       "      <td>0.07115</td>\n",
       "      <td>0</td>\n",
       "    </tr>\n",
       "    <tr>\n",
       "      <th>565</th>\n",
       "      <td>20.13</td>\n",
       "      <td>28.25</td>\n",
       "      <td>131.20</td>\n",
       "      <td>1261.0</td>\n",
       "      <td>0.09780</td>\n",
       "      <td>0.10340</td>\n",
       "      <td>0.14400</td>\n",
       "      <td>0.09791</td>\n",
       "      <td>0.1752</td>\n",
       "      <td>0.05533</td>\n",
       "      <td>...</td>\n",
       "      <td>38.25</td>\n",
       "      <td>155.00</td>\n",
       "      <td>1731.0</td>\n",
       "      <td>0.11660</td>\n",
       "      <td>0.19220</td>\n",
       "      <td>0.3215</td>\n",
       "      <td>0.1628</td>\n",
       "      <td>0.2572</td>\n",
       "      <td>0.06637</td>\n",
       "      <td>0</td>\n",
       "    </tr>\n",
       "    <tr>\n",
       "      <th>566</th>\n",
       "      <td>16.60</td>\n",
       "      <td>28.08</td>\n",
       "      <td>108.30</td>\n",
       "      <td>858.1</td>\n",
       "      <td>0.08455</td>\n",
       "      <td>0.10230</td>\n",
       "      <td>0.09251</td>\n",
       "      <td>0.05302</td>\n",
       "      <td>0.1590</td>\n",
       "      <td>0.05648</td>\n",
       "      <td>...</td>\n",
       "      <td>34.12</td>\n",
       "      <td>126.70</td>\n",
       "      <td>1124.0</td>\n",
       "      <td>0.11390</td>\n",
       "      <td>0.30940</td>\n",
       "      <td>0.3403</td>\n",
       "      <td>0.1418</td>\n",
       "      <td>0.2218</td>\n",
       "      <td>0.07820</td>\n",
       "      <td>0</td>\n",
       "    </tr>\n",
       "    <tr>\n",
       "      <th>567</th>\n",
       "      <td>20.60</td>\n",
       "      <td>29.33</td>\n",
       "      <td>140.10</td>\n",
       "      <td>1265.0</td>\n",
       "      <td>0.11780</td>\n",
       "      <td>0.27700</td>\n",
       "      <td>0.35140</td>\n",
       "      <td>0.15200</td>\n",
       "      <td>0.2397</td>\n",
       "      <td>0.07016</td>\n",
       "      <td>...</td>\n",
       "      <td>39.42</td>\n",
       "      <td>184.60</td>\n",
       "      <td>1821.0</td>\n",
       "      <td>0.16500</td>\n",
       "      <td>0.86810</td>\n",
       "      <td>0.9387</td>\n",
       "      <td>0.2650</td>\n",
       "      <td>0.4087</td>\n",
       "      <td>0.12400</td>\n",
       "      <td>0</td>\n",
       "    </tr>\n",
       "    <tr>\n",
       "      <th>568</th>\n",
       "      <td>7.76</td>\n",
       "      <td>24.54</td>\n",
       "      <td>47.92</td>\n",
       "      <td>181.0</td>\n",
       "      <td>0.05263</td>\n",
       "      <td>0.04362</td>\n",
       "      <td>0.00000</td>\n",
       "      <td>0.00000</td>\n",
       "      <td>0.1587</td>\n",
       "      <td>0.05884</td>\n",
       "      <td>...</td>\n",
       "      <td>30.37</td>\n",
       "      <td>59.16</td>\n",
       "      <td>268.6</td>\n",
       "      <td>0.08996</td>\n",
       "      <td>0.06444</td>\n",
       "      <td>0.0000</td>\n",
       "      <td>0.0000</td>\n",
       "      <td>0.2871</td>\n",
       "      <td>0.07039</td>\n",
       "      <td>1</td>\n",
       "    </tr>\n",
       "  </tbody>\n",
       "</table>\n",
       "<p>569 rows × 31 columns</p>\n",
       "</div>"
      ],
      "text/plain": [
       "     mean radius  mean texture  mean perimeter  mean area  mean smoothness  \\\n",
       "0          17.99         10.38          122.80     1001.0          0.11840   \n",
       "1          20.57         17.77          132.90     1326.0          0.08474   \n",
       "2          19.69         21.25          130.00     1203.0          0.10960   \n",
       "3          11.42         20.38           77.58      386.1          0.14250   \n",
       "4          20.29         14.34          135.10     1297.0          0.10030   \n",
       "..           ...           ...             ...        ...              ...   \n",
       "564        21.56         22.39          142.00     1479.0          0.11100   \n",
       "565        20.13         28.25          131.20     1261.0          0.09780   \n",
       "566        16.60         28.08          108.30      858.1          0.08455   \n",
       "567        20.60         29.33          140.10     1265.0          0.11780   \n",
       "568         7.76         24.54           47.92      181.0          0.05263   \n",
       "\n",
       "     mean compactness  mean concavity  mean concave points  mean symmetry  \\\n",
       "0             0.27760         0.30010              0.14710         0.2419   \n",
       "1             0.07864         0.08690              0.07017         0.1812   \n",
       "2             0.15990         0.19740              0.12790         0.2069   \n",
       "3             0.28390         0.24140              0.10520         0.2597   \n",
       "4             0.13280         0.19800              0.10430         0.1809   \n",
       "..                ...             ...                  ...            ...   \n",
       "564           0.11590         0.24390              0.13890         0.1726   \n",
       "565           0.10340         0.14400              0.09791         0.1752   \n",
       "566           0.10230         0.09251              0.05302         0.1590   \n",
       "567           0.27700         0.35140              0.15200         0.2397   \n",
       "568           0.04362         0.00000              0.00000         0.1587   \n",
       "\n",
       "     mean fractal dimension  ...  worst texture  worst perimeter  worst area  \\\n",
       "0                   0.07871  ...          17.33           184.60      2019.0   \n",
       "1                   0.05667  ...          23.41           158.80      1956.0   \n",
       "2                   0.05999  ...          25.53           152.50      1709.0   \n",
       "3                   0.09744  ...          26.50            98.87       567.7   \n",
       "4                   0.05883  ...          16.67           152.20      1575.0   \n",
       "..                      ...  ...            ...              ...         ...   \n",
       "564                 0.05623  ...          26.40           166.10      2027.0   \n",
       "565                 0.05533  ...          38.25           155.00      1731.0   \n",
       "566                 0.05648  ...          34.12           126.70      1124.0   \n",
       "567                 0.07016  ...          39.42           184.60      1821.0   \n",
       "568                 0.05884  ...          30.37            59.16       268.6   \n",
       "\n",
       "     worst smoothness  worst compactness  worst concavity  \\\n",
       "0             0.16220            0.66560           0.7119   \n",
       "1             0.12380            0.18660           0.2416   \n",
       "2             0.14440            0.42450           0.4504   \n",
       "3             0.20980            0.86630           0.6869   \n",
       "4             0.13740            0.20500           0.4000   \n",
       "..                ...                ...              ...   \n",
       "564           0.14100            0.21130           0.4107   \n",
       "565           0.11660            0.19220           0.3215   \n",
       "566           0.11390            0.30940           0.3403   \n",
       "567           0.16500            0.86810           0.9387   \n",
       "568           0.08996            0.06444           0.0000   \n",
       "\n",
       "     worst concave points  worst symmetry  worst fractal dimension  target  \n",
       "0                  0.2654          0.4601                  0.11890       0  \n",
       "1                  0.1860          0.2750                  0.08902       0  \n",
       "2                  0.2430          0.3613                  0.08758       0  \n",
       "3                  0.2575          0.6638                  0.17300       0  \n",
       "4                  0.1625          0.2364                  0.07678       0  \n",
       "..                    ...             ...                      ...     ...  \n",
       "564                0.2216          0.2060                  0.07115       0  \n",
       "565                0.1628          0.2572                  0.06637       0  \n",
       "566                0.1418          0.2218                  0.07820       0  \n",
       "567                0.2650          0.4087                  0.12400       0  \n",
       "568                0.0000          0.2871                  0.07039       1  \n",
       "\n",
       "[569 rows x 31 columns]"
      ]
     },
     "execution_count": 110,
     "metadata": {},
     "output_type": "execute_result"
    }
   ],
   "source": [
    "df_origin"
   ]
  },
  {
   "cell_type": "markdown",
   "id": "efd3c89b-2f58-4069-9b9c-c3f31e2a7720",
   "metadata": {},
   "source": [
    "\n",
    "<section id=\"Spliting\">\n",
    "    <h3> 2.1. Spliting the dataframe </h3>\n",
    "</section>\n"
   ]
  },
  {
   "cell_type": "code",
   "execution_count": 112,
   "id": "596554f1-6958-4c7c-b14b-0a20489b319f",
   "metadata": {},
   "outputs": [],
   "source": [
    "X_train, y_train, X_validation, y_validation, X_test, y_test = train_valid_test_split(\n",
    "                                                        df_origin,\n",
    "                                                        target = 'target',\n",
    "                                                        train_size=0.8,\n",
    "                                                        valid_size=0.1,\n",
    "                                                        test_size=0.1)"
   ]
  },
  {
   "cell_type": "markdown",
   "id": "f4f7cfa2-8bae-428c-be2e-213a3f8d4eb9",
   "metadata": {},
   "source": [
    "\n",
    "---\n"
   ]
  },
  {
   "cell_type": "markdown",
   "id": "aee28c90-996b-40bf-89b2-b68308bc7bab",
   "metadata": {},
   "source": [
    "\n",
    "<section id=\"Fuctions\">\n",
    "    <h2> 3. Fuctions definitions </h2>\n",
    "<section id=\"Fuctions\">\n",
    "    "
   ]
  },
  {
   "cell_type": "markdown",
   "id": "5cdbec46-069c-4b13-8d6d-b2f101336e6d",
   "metadata": {
    "tags": []
   },
   "source": [
    "\n",
    "<section id=\"Binary\">\n",
    "    <h3> 3.1. Binary Classification </h3>\n",
    "<section id=\"Binary\">\n"
   ]
  },
  {
   "cell_type": "markdown",
   "id": "f7aea824-4b9b-4b01-a25c-a6524811ede1",
   "metadata": {},
   "source": [
    "\n",
    "- Supervised model\n",
    "- Decision Trees\n"
   ]
  },
  {
   "cell_type": "markdown",
   "id": "bf83c0fc-fad6-49c4-aa75-74dbc857e1fc",
   "metadata": {
    "tags": []
   },
   "source": [
    "\n",
    "<section id=\"BinarySumary\">\n",
    "    <h4> 3.1.1. Binary Classification Sumary </h4>\n",
    "<section id=\"BinarySumary\">\n"
   ]
  },
  {
   "cell_type": "code",
   "execution_count": 122,
   "id": "b09bca20-7d89-45f3-8af3-a6c5b0fadf5b",
   "metadata": {},
   "outputs": [],
   "source": [
    "def evaluation_BinaryClassification_graphs(model, y, th, X):\n",
    "\n",
    "    fig, axes = plt.subplots(ncols=2, nrows=3, figsize=(15,15))\n",
    "\n",
    "    # EVALUATION - ROC CURVE\n",
    "  \n",
    "    # Cálculo da taxa de falsos positivos, verdadeiros positivos e limiares para decisão de classificação para diferentes pontos de corte probabilístico\n",
    "    fpr, tpr, thresholds = roc_curve(y, y_pred_proba)\n",
    "    # Métrica ROC AUC em porcentagem\n",
    "    print('ROC AUC: ', auc(fpr, tpr) * 100)\n",
    "    # Plotagem da curva ROC\n",
    "    axes[0,0].plot(fpr, tpr, color='blue', label='ROC')\n",
    "    # Definição do ponto específico na curva ROC relacionado ao limiar setado (th)\n",
    "    loc = np.argmin(np.abs(thresholds-th))\n",
    "    # Plotagem do ponto da curva associado ao limiar setado (th)\n",
    "    axes[0,0].plot(fpr[loc], tpr[loc], marker='o', color='red')\n",
    "    # Linha diagonal indicadora de desemprenho aleatório\n",
    "    axes[0,0].plot([0, 1], [0, 1], color='grey', linestyle='--')\n",
    "    # Rótulos e títulos\n",
    "    axes[0,0].set_xlabel('Taxa de Falso Positivo')\n",
    "    axes[0,0].set_ylabel('Taxa de Verdadeiro Positivo')\n",
    "    axes[0,0].set_title('Curva ROC')\n",
    "                      \n",
    "   # EVALUATION - PRECISION-RECALL CURVE\n",
    "    \n",
    "    # Cálculo da taxa de precision, recall e limiares para decisão de classificação para diferentes pontos de corte probabilístico\n",
    "    precision, recall, thresholds = precision_recall_curve(y, y_pred_proba)\n",
    "    # AUC da curva de Precision-Recall em porcentagem\n",
    "    print('PR AUC: ', auc(recall, precision))\n",
    "    axes[0,1].plot(recall, precision)\n",
    "    # Definição do ponto específico na curva ROC relacionado ao limiar setado (th)\n",
    "    loc = np.argmin(np.abs(thresholds-th))\n",
    "    # Plotagem do ponto da curva associado ao limiar setado (th)\n",
    "    axes[0,1].plot(recall[loc], precision[loc], 'ko')\n",
    "    # Rótulos e títulos\n",
    "    axes[0,1].set_title('Curva de Precisão/Recall')\n",
    "    axes[0,1].set_xlabel('Recall')\n",
    "    axes[0,1].set_ylabel('Precisão')\n",
    "    \n",
    "   # EVALUATION - CONFUSION MATRIX\n",
    "\n",
    "    limiar = th\n",
    "\n",
    "    cm = confusion_matrix(y, (y_pred_proba>=th))\n",
    "    cm = cm/np.sum(cm)\n",
    "    print('Confusion matrix:')\n",
    "    print(cm/np.sum(cm))\n",
    "\n",
    "    sns.heatmap(cm, vmax=np.max(cm), vmin=np.min(cm), annot=True, square=True, fmt='g', ax = axes[1,0])\n",
    "    axes[1,0].set_title(\"Matriz de Confusão (Limiar = {})\".format(limiar))\n",
    "    axes[1,0].set_xlabel(\"Previsto\")\n",
    "    axes[1,0].set_ylabel(\"Verdadeiro\") \n",
    "    \n",
    "   # EVALUATION - FALSE NEGATIVES E FALSE POSITIVES\n",
    "    \n",
    "    list_fn = []\n",
    "    list_fp = []\n",
    "    x = []\n",
    "\n",
    "    for i in np.arange(0,1,0.01):\n",
    "        cm = confusion_matrix(y, y_pred_proba>=i)\n",
    "        list_fn.append(cm[1,0]/(cm[1,0] + cm[1,1]))\n",
    "        list_fp.append(cm[0,1]/ (cm[0,1] + cm[0,0]))\n",
    "        x.append(i)\n",
    "\n",
    "    plt.axvline(th, color='k', linestyle=':')\n",
    "    \n",
    "    # Rótulos e títulos\n",
    "    axes[1,1].plot(x, list_fn, label='Falso Negativo')\n",
    "    axes[1,1].plot(x, list_fp, label='Falso Positivo')\n",
    "    axes[1,1].set_title('FP/FN vs Limiar de Decisão')\n",
    "    axes[1,1].legend()\n",
    "    \n",
    "    # EVALUATION - SCORE\n",
    "    \n",
    "    y_pred = pd.DataFrame(y_pred_proba, index=X.index, columns=['pred'])\n",
    "    axes[2,0].hist(y_pred.loc[y==0], bins=np.linspace(0,1,30), color='b', alpha=.3, density=True, rwidth=.8)\n",
    "    axes[2,0].hist(y_pred.loc[y==1], bins=np.linspace(0,1,30), color='r', alpha=.3, density=True, rwidth=.8)\n",
    "    axes[2,0].axvline(th, color='k', linestyle=':')\n",
    "\n",
    "   # EVALUATION - LIFT\n",
    "    \n",
    "    step = 0.02\n",
    "        \n",
    "    aux_lift = pd.DataFrame()\n",
    "    aux_lift['real'] = y\n",
    "    aux_lift['predicted'] = y_pred_proba\n",
    "    aux_lift.sort_values('predicted', ascending=False, inplace=True)\n",
    "    x_val = np.arange(step,1+step,step)\n",
    "    ratio_ones = aux_lift['real'].sum() / len(aux_lift)\n",
    "    y_v = []\n",
    "    \n",
    "    for x in x_val:\n",
    "        num_data = int(np.ceil(x*len(aux_lift)))\n",
    "        data_here = aux_lift.iloc[:num_data,:]\n",
    "        ratio_ones_here = data_here['real'].sum()/len(data_here)\n",
    "        y_v.append(ratio_ones_here / ratio_ones)\n",
    "        \n",
    "    axes[2,1].plot(x_val, y_v, 'g-', linewidth = 3, markersize = 5)\n",
    "    axes[2,1].plot(x_val, np.ones(len(x_val)), 'k-')\n",
    "    axes[2,1].set_xlabel('Proportion of sample')\n",
    "    axes[2,1].set_ylabel('Lift')\n",
    "    axes[2,1].set_title('Lift Curve')          \n",
    "    "
   ]
  },
  {
   "cell_type": "code",
   "execution_count": 123,
   "id": "5f48cc62-124a-4c4a-a5e6-c1835e94cb87",
   "metadata": {},
   "outputs": [],
   "source": [
    "def evaluation_BinaryClassification_tables(model, final_model, X, y, data, target=None, prob=None):\n",
    "    \n",
    "    print(f'{model} EVALUATION - GINI, KS E ANÁLISES DE EVENTOS:')\n",
    "\n",
    "    # Cálculo de GINI\n",
    "    gini = 2*roc_auc_score(data[target], data[prob]) - 1\n",
    "    # Cálculo de KS\n",
    "    ks = stats.ks_2samp(data[data[target] == 0][prob], data[data[target] == 1][prob]).statistic\n",
    "    # Display de GINI e KS\n",
    "    print('KS : %s, GINI : %s' % (round(ks,2), round(gini,2)))\n",
    "    \n",
    "    # Cálculo das métricas por decil\n",
    "    data['target0'] = 1 - data[target]\n",
    "    data['bucket'] = pd.qcut(data[prob], 10)\n",
    "    grouped = data.groupby('bucket', as_index = False)\n",
    "    kstable = pd.DataFrame()\n",
    "    kstable['min_prob'] = grouped.min()[prob].apply('{0:.5%}'.format)\n",
    "    kstable['max_prob'] = grouped.max()[prob].apply('{0:.5%}'.format)\n",
    "    kstable['events']   = grouped.sum()[target]\n",
    "    kstable['nonevents'] = grouped.sum()['target0']\n",
    "    kstable = kstable.sort_values(by=\"min_prob\", ascending=False).reset_index(drop = True)\n",
    "    kstable['event_rate'] = (kstable.events / data[target].sum()).apply('{0:.2%}'.format)\n",
    "    kstable['nonevent_rate'] = (kstable.nonevents / data['target0'].sum()).apply('{0:.2%}'.format)\n",
    "    \n",
    "    # Formação da tabela\n",
    "    kstable.index = range(1,11)\n",
    "    kstable.index.rename('Decile', inplace=True)\n",
    "\n",
    "    \n",
    "    print(f'\\n {model} EVALUATION - MÉTRICAS POR DECIS:')\n",
    "\n",
    "    quebras = 10\n",
    "\n",
    "    scored = pd.DataFrame(zip(y, y_pred_proba),columns=['y','y_pred_proba'])\n",
    "    scored = scored.sort_values(by='y_pred_proba').reset_index()\n",
    "    scored.loc[:,'decil'] = pd.cut(scored.index, quebras, labels=range(quebras))\n",
    "    group = scored.groupby('decil').agg({'y':['sum','count'], 'y_pred_proba': ['min', 'max']})\n",
    "    group.loc[:,'rel_acc'] = group.y.loc[::-1,'sum'].cumsum()\n",
    "    group.loc[:,'bons_acc'] = group.y.loc[::-1,'count'].cumsum()\n",
    "    group.loc[:,'rel_pct'] = group.rel_acc / group.y['sum'].sum() * 100\n",
    "    group.loc[:,'nrel_pct'] = group.bons_acc / group.y['count'].sum() * 100\n",
    "    fp = group.bons_acc\n",
    "    tn = group.y['count'].sum() - group.y['count']\n",
    "    group.loc[:,'ifp'] = (fp / (fp + tn)) * 100\n",
    "    recall = group.y['sum'] / group.y['sum'].sum()\n",
    "    precision = group.y['sum'] / (group.y['sum'] + group.y['count'])\n",
    "    group.loc[:,'recall'] = recall\n",
    "    group.loc[:,'precision'] = precision\n",
    "    group.loc[:,'f1_score'] = 2 * (precision*recall / (precision + recall))\n",
    "    group['y_pred_proba'] = group['y_pred_proba'].round(4)\n",
    "\n",
    "          \n",
    "    # Display da tabela\n",
    "    return kstable, group"
   ]
  },
  {
   "cell_type": "markdown",
   "id": "e9f5f6ea-eb52-41e7-b886-aa7f167e5039",
   "metadata": {
    "tags": []
   },
   "source": [
    "\n",
    "<section id=\"precision_recall_curve\">\n",
    "    <h4> 3.1.2. precision_recall_curve </h4>\n",
    "<section id=\"precision_recall_curve\">\n"
   ]
  },
  {
   "cell_type": "markdown",
   "id": "aaf59e91-e1d4-4194-807c-a912cce56152",
   "metadata": {},
   "source": [
    "\n",
    "- Definition:\n",
    "- Note:\n"
   ]
  },
  {
   "cell_type": "code",
   "execution_count": 298,
   "id": "3a8e509a-36d3-4951-be09-adae23330193",
   "metadata": {},
   "outputs": [],
   "source": [
    "def evaluation_BinaryClassification_PrecisionRecall(model, y, th):\n",
    "            \n",
    "    print(f'{model} EVALUATION - PRECISION-RECALL CURVE:')\n",
    "    \n",
    "    # Cálculo da taxa de precision, recall e limiares para decisão de classificação para diferentes pontos de corte probabilístico\n",
    "    precision, recall, thresholds = precision_recall_curve(y, y_pred_proba)\n",
    "    # AUC da curva de Precision-Recall em porcentagem\n",
    "    print('PR AUC: ', auc(recall, precision))\n",
    "    plt.plot(recall, precision)\n",
    "    # Definição do ponto específico na curva ROC relacionado ao limiar setado (th)\n",
    "    loc = np.argmin(np.abs(thresholds-th))\n",
    "    # Plotagem do ponto da curva associado ao limiar setado (th)\n",
    "    plt.plot(recall[loc], precision[loc], 'ko')\n",
    "\n",
    "    plt.title('Precisão/Recall Curve')\n",
    "    plt.xlabel('Recall')\n",
    "    plt.ylabel('Precision')"
   ]
  },
  {
   "cell_type": "markdown",
   "id": "c7072e7f-8658-438f-8a5f-996d0208ec67",
   "metadata": {
    "tags": []
   },
   "source": [
    "\n",
    "<section id=\"roc_curve\">\n",
    "    <h4> 3.1.3. roc_curve </h4>\n",
    "<section id=\"roc_curve\">\n"
   ]
  },
  {
   "cell_type": "markdown",
   "id": "86e6def0-cf25-4e07-9fc5-d76136ea1eec",
   "metadata": {},
   "source": [
    "\n",
    "- Definition: \n",
    "- Note:\n"
   ]
  },
  {
   "cell_type": "code",
   "execution_count": 302,
   "id": "02d2e3ae-ad15-4db2-8e46-3826b8d70597",
   "metadata": {},
   "outputs": [],
   "source": [
    "def evaluation_BinaryClassification_roc(model, y, th):\n",
    "\n",
    "    print(f'{model} EVALUATION - ROC CURVE:')\n",
    "  \n",
    "    # Cálculo da taxa de falsos positivos, verdadeiros positivos e limiares para decisão de classificação para diferentes pontos de corte probabilístico\n",
    "    fpr, tpr, thresholds = roc_curve(y, y_pred_proba)\n",
    "    # Métrica ROC AUC em porcentagem\n",
    "    print('ROC AUC: ', auc(fpr, tpr) * 100)\n",
    "    # Plotagem da curva ROC\n",
    "    plt.plot(fpr, tpr, color='blue', label='ROC')\n",
    "    # Definição do ponto específico na curva ROC relacionado ao limiar setado (th)\n",
    "    loc = np.argmin(np.abs(thresholds-th))\n",
    "    # Plotagem do ponto da curva associado ao limiar setado (th)\n",
    "    plt.plot(fpr[loc], tpr[loc], marker='o', color='red')\n",
    "    # Linha diagonal indicadora de desemprenho aleatório\n",
    "    plt.plot([0, 1], [0, 1], color='grey', linestyle='--')\n",
    "    # Rótulos e títulos\n",
    "    plt.xlabel('Taxa de Falso Positivo')\n",
    "    plt.ylabel('Taxa de Verdadeiro Positivo')\n",
    "    plt.title('Curva ROC')\n",
    "    "
   ]
  },
  {
   "cell_type": "markdown",
   "id": "9aa971e1-6714-4656-8e93-aa142660c81b",
   "metadata": {},
   "source": [
    "\n",
    "<section id=\"class_likelihood_ratios\">\n",
    "    <h4> 3.1.5. class_likelihood_ratios </h4>\n",
    "<section id=\"class_likelihood_ratios\"> \n"
   ]
  },
  {
   "cell_type": "markdown",
   "id": "79aceba6-3561-4cd1-846b-ba823f9c2ffd",
   "metadata": {},
   "source": [
    "\n",
    "- Definition: \n",
    "- Note: \n"
   ]
  },
  {
   "cell_type": "code",
   "execution_count": 306,
   "id": "26d2ebe1-ea8e-40aa-afae-2102e18f6d40",
   "metadata": {},
   "outputs": [],
   "source": [
    "# class LikelihoodRatios:\n",
    "#     def __init__(self, model):\n",
    "#         self.model = model\n",
    "\n",
    "#     def calculate_likelihood_ratios(self, X):\n",
    "#         # Obtém as probabilidades de pertencer à classe positiva e à classe negativa\n",
    "#         probabilities = self.model.predict_proba(X)\n",
    "#         positive_probabilities = probabilities[:, 1]\n",
    "#         negative_probabilities = probabilities[:, 0]\n",
    "        \n",
    "#         # Calcula os likelihood ratios\n",
    "#         likelihood_ratios = positive_probabilities / negative_probabilities\n",
    "#         return likelihood_ratios\n",
    "\n",
    "    \n",
    "# # Calcula os likelihood ratios para o conjunto de teste usando o modelo treinado\n",
    "# lr_calculator = LikelihoodRatios(model)\n",
    "# likelihood_ratios = lr_calculator.calculate_likelihood_ratios(X_test)\n",
    "\n",
    "# # Exibe os likelihood ratios calculados\n",
    "# print('Likelihood Ratios para o conjunto de teste:')\n",
    "# print(likelihood_ratios)"
   ]
  },
  {
   "cell_type": "code",
   "execution_count": 308,
   "id": "1af8c3a2-2ffb-4818-a17d-d9daf2a53008",
   "metadata": {},
   "outputs": [],
   "source": [
    "#code"
   ]
  },
  {
   "cell_type": "markdown",
   "id": "588664d7-a172-4c36-896e-1b1bb5f226d8",
   "metadata": {},
   "source": [
    "\n",
    "<section id=\"det_curve\">\n",
    "    <h4> 3.1.6. det_curve </h4>\n",
    "<section id=\"det_curve\"> \n"
   ]
  },
  {
   "cell_type": "markdown",
   "id": "8530ad06-5a11-4aa0-b04a-bba8000fcbb5",
   "metadata": {},
   "source": [
    "**recall (recall_score)**:\n",
    "\n",
    "- Definition: \n",
    "- Note: "
   ]
  },
  {
   "cell_type": "code",
   "execution_count": 312,
   "id": "90137aaf-e6e9-4a04-93c9-257ebb8ce020",
   "metadata": {},
   "outputs": [],
   "source": [
    "def evaluation_BinaryClassification_DetCurve(y_train, y, title='DET Curve', xlabel='False Positive Rate (%)', ylabel='False Negative Rate (%)'):\n",
    "\n",
    "    fpr, fnr, _ = confusion_matrix(y_true, (y_score >= 0.5)).ravel()\n",
    "\n",
    "    fpr = 100 * fpr / (fpr + fnr)\n",
    "    fnr = 100 * fnr / (fpr + fnr)\n",
    "\n",
    "    plt.figure(figsize=(8, 8))\n",
    "    plt.plot(fpr, fnr, marker='o', linestyle='-', color='b')\n",
    "    plt.plot([0, 100], [0, 100], linestyle='--', color='gray')\n",
    "    plt.title(title)\n",
    "    plt.xlabel(xlabel)\n",
    "    plt.ylabel(ylabel)\n",
    "    plt.grid(True)\n",
    "    plt.show()\n",
    "\n",
    "# evaluation_BinaryClassification_DetCurve(y_train, y_pred_validation)"
   ]
  },
  {
   "cell_type": "markdown",
   "id": "1457d480-946b-498e-aa22-93ac85e06b55",
   "metadata": {
    "tags": []
   },
   "source": [
    "\n",
    "<section id=\"Multiclass \">\n",
    "    <h3> 3.2. Multiclass Classification </h3>\n",
    "<section id=\"Multiclass\">\n"
   ]
  },
  {
   "cell_type": "markdown",
   "id": "f7910bb5-c0c1-4dd2-b086-5e3f698c57c6",
   "metadata": {},
   "source": [
    "\n",
    "- Supervised model\n",
    "- Decision Trees\n"
   ]
  },
  {
   "cell_type": "markdown",
   "id": "995d2ad9-1ff4-4f7d-857d-f5ffa82a3953",
   "metadata": {
    "jp-MarkdownHeadingCollapsed": true,
    "tags": []
   },
   "source": [
    "\n",
    "<section id=\"balanced_accuracy_score\">\n",
    "    <h4> 3.2.1. balanced_accuracy_score </h4>\n",
    "<section id=\"balanced_accuracy_score\">\n"
   ]
  },
  {
   "cell_type": "markdown",
   "id": "505046d6-b647-45fe-9c92-b1de204997b5",
   "metadata": {},
   "source": [
    "\n",
    "- Definition:\n",
    "- Note:\n"
   ]
  },
  {
   "cell_type": "markdown",
   "id": "b9e587d7-b790-48ce-a3cb-b6e0c63814b9",
   "metadata": {
    "jp-MarkdownHeadingCollapsed": true,
    "tags": []
   },
   "source": [
    "\n",
    "<section id=\"cohen_kappa_score\">\n",
    "    <h4> 3.2.2. cohen_kappa_score </h4>\n",
    "<section id=\"cohen_kappa_score\">\n"
   ]
  },
  {
   "cell_type": "markdown",
   "id": "bae02712-3acd-431f-8951-50c382873b6a",
   "metadata": {},
   "source": [
    "\n",
    "- Definition:\n",
    "- Note:\n"
   ]
  },
  {
   "cell_type": "markdown",
   "id": "38f1de4d-f938-4cca-ac82-1dddeeab7b8f",
   "metadata": {
    "tags": []
   },
   "source": [
    "\n",
    "<section id=\"confusion_matrix\">\n",
    "    <h4> 3.2.3. confusion_matrix </h4>\n",
    "<section id=\"confusion_matrix\">\n"
   ]
  },
  {
   "cell_type": "markdown",
   "id": "fe262c0c-1777-48cc-a3ad-b62b7539456a",
   "metadata": {},
   "source": [
    "\n",
    "- Definition:\n",
    "- Note:\n"
   ]
  },
  {
   "cell_type": "code",
   "execution_count": 322,
   "id": "fd077342-c593-435f-b4fe-1f2ced04fa1e",
   "metadata": {},
   "outputs": [],
   "source": [
    "def evaluation_MulticlassClassification_ConfusionMatrix(model, y, th):\n",
    "    \n",
    "    print(f'{model} EVALUATION - CONFUSION MATRIX:')\n",
    "\n",
    "    threshold = th\n",
    "\n",
    "    cm = confusion_matrix(y, (y_pred_proba>=th))\n",
    "    cm = cm/np.sum(cm)\n",
    "    print(cm/np.sum(cm))\n",
    "\n",
    "    sns.heatmap(cm, vmax=np.max(cm), vmin=np.min(cm), annot=True, square=True, fmt='g')\n",
    "    plt.title('Confusion Matrix (Threshold = {})'.format(threshold))\n",
    "    plt.xlabel('Predicted')\n",
    "    plt.ylabel('True')"
   ]
  },
  {
   "cell_type": "markdown",
   "id": "e87ce771-b8c2-4048-b20b-82709a000138",
   "metadata": {
    "jp-MarkdownHeadingCollapsed": true,
    "tags": []
   },
   "source": [
    "\n",
    "<section id=\"hinge_loss\">\n",
    "    <h4> 3.2.4. hinge_loss </h4>\n",
    "<section id=\"hinge_loss\">\n"
   ]
  },
  {
   "cell_type": "markdown",
   "id": "f0c83f0f-07b9-41a8-9ad1-ca42cbd46f15",
   "metadata": {},
   "source": [
    "\n",
    "- Definition:\n",
    "- Note:\n"
   ]
  },
  {
   "cell_type": "markdown",
   "id": "110615a5-c5c5-457a-8182-a87c5bbe6331",
   "metadata": {
    "jp-MarkdownHeadingCollapsed": true,
    "tags": []
   },
   "source": [
    "\n",
    "<section id=\"matthews_corrcoef\">\n",
    "    <h4> 3.2.5. matthews_corrcoef </h4>\n",
    "<section id=\"matthews_corrcoef\">\n"
   ]
  },
  {
   "cell_type": "markdown",
   "id": "9e91c91d-d644-4e91-bfa0-e9e2f3fd387b",
   "metadata": {},
   "source": [
    "\n",
    "- Definition:\n",
    "- Note:\n"
   ]
  },
  {
   "cell_type": "markdown",
   "id": "f5ae608e-4921-43fc-ab1c-873d75109c19",
   "metadata": {
    "jp-MarkdownHeadingCollapsed": true,
    "tags": []
   },
   "source": [
    "\n",
    "<section id=\"roc_auc_score\">\n",
    "    <h4> 3.2.6. roc_auc_score </h4>\n",
    "<section id=\"roc_auc_score\">\n"
   ]
  },
  {
   "cell_type": "markdown",
   "id": "0fb7bf2d-f6cc-4c75-b34d-140b6da20bec",
   "metadata": {},
   "source": [
    "\n",
    "- Definition:\n",
    "- Note:\n"
   ]
  },
  {
   "cell_type": "markdown",
   "id": "fbd90959-39a2-4d28-9757-03ef61cd1c4c",
   "metadata": {
    "jp-MarkdownHeadingCollapsed": true,
    "tags": []
   },
   "source": [
    "\n",
    "<section id=\"top_k_accuracy_score\">\n",
    "    <h4> 3.2.7. top_k_accuracy_score </h4>\n",
    "<section id=\"top_k_accuracy_score\">\n"
   ]
  },
  {
   "cell_type": "markdown",
   "id": "8aec9bca-c880-4566-9c88-95e842ea3fe8",
   "metadata": {},
   "source": [
    "\n",
    "- Definition:\n",
    "- Note:\n"
   ]
  },
  {
   "cell_type": "markdown",
   "id": "edab15f1-9d41-41b0-9a17-7f0e592cd125",
   "metadata": {
    "tags": []
   },
   "source": [
    "\n",
    "<section id=\"Multilabel \">\n",
    "    <h3> 3.3. Multilabel  Classification  </h3>\n",
    "<section id=\"Multilabel \"> \n"
   ]
  },
  {
   "cell_type": "markdown",
   "id": "3b4b808a-dae4-4c01-b6ff-a824cc08fb74",
   "metadata": {},
   "source": [
    "\n",
    "- Supervised model\n",
    "- Decision Trees\n"
   ]
  },
  {
   "cell_type": "markdown",
   "id": "5b23af9e-5992-4197-a402-8e01013d8528",
   "metadata": {
    "tags": []
   },
   "source": [
    "\n",
    "<section id=\"accuracy_score\">\n",
    "    <h4> 3.3.1. accuracy_score </h4>\n",
    "<section id=\"accuracy_score\">\n"
   ]
  },
  {
   "cell_type": "markdown",
   "id": "47aeea02-002f-477d-8014-3deedb5c2b75",
   "metadata": {},
   "source": [
    "\n",
    "- Definition:\n",
    "- Note:\n"
   ]
  },
  {
   "cell_type": "markdown",
   "id": "ef3ee53a-1a90-4737-9ff1-37231834e855",
   "metadata": {},
   "source": [
    "\n",
    "<section id=\"classification_report\">\n",
    "    <h4> 3.3.2. classification_report </h4>\n",
    "<section id=\"classification_report\">\n"
   ]
  },
  {
   "cell_type": "markdown",
   "id": "0e9e45a4-4330-4ba7-9e0f-a1549b5faa1e",
   "metadata": {},
   "source": [
    "\n",
    "- Definition:\n",
    "- Note:\n"
   ]
  },
  {
   "cell_type": "markdown",
   "id": "e17817f8-b2bf-417a-a8d6-651de20e3f6f",
   "metadata": {},
   "source": [
    "\n",
    "<section id=\"f1_score\">\n",
    "    <h4> 3.3.3. f1_score </h4>\n",
    "<section id=\"f1_score\">\n"
   ]
  },
  {
   "cell_type": "markdown",
   "id": "e56a5bf6-a2ab-4643-83e7-caf967172a1d",
   "metadata": {},
   "source": [
    "\n",
    "- Definition:\n",
    "- Note:\n"
   ]
  },
  {
   "cell_type": "markdown",
   "id": "b9630405-ae09-424d-a281-3b32453dbe77",
   "metadata": {},
   "source": [
    "\n",
    "<section id=\"fbeta_score\">\n",
    "    <h4> 3.3.4. fbeta_score </h4>\n",
    "<section id=\"fbeta_score\">\n"
   ]
  },
  {
   "cell_type": "markdown",
   "id": "f96d690c-65b6-4367-b9c0-b1e29415fd04",
   "metadata": {},
   "source": [
    "\n",
    "- Definition:\n",
    "- Note:\n"
   ]
  },
  {
   "cell_type": "markdown",
   "id": "6aaef4f8-6e26-4f82-a2a6-26c339e218f3",
   "metadata": {},
   "source": [
    "\n",
    "<section id=\"hamming_loss\">\n",
    "    <h4> 3.3.5. hamming_loss </h4>\n",
    "<section id=\"hamming_loss\">\n"
   ]
  },
  {
   "cell_type": "markdown",
   "id": "f83c29a7-28a9-4b0b-b371-95f927a7aa35",
   "metadata": {},
   "source": [
    "\n",
    "- Definition:\n",
    "- Note:\n"
   ]
  },
  {
   "cell_type": "markdown",
   "id": "c1c0c933-eeb0-4361-a1a6-6cd8f42abd3f",
   "metadata": {},
   "source": [
    "\n",
    "<section id=\"jaccard_score\">\n",
    "    <h4> 3.3.6. jaccard_score </h4>\n",
    "<section id=\"jaccard_score\">\n"
   ]
  },
  {
   "cell_type": "markdown",
   "id": "4a0022cd-667c-4371-a1ca-abb03f6e13bf",
   "metadata": {},
   "source": [
    "\n",
    "- Definition:\n",
    "- Note:\n"
   ]
  },
  {
   "cell_type": "markdown",
   "id": "ca360495-4c66-4c77-8bcd-cd4ca8f11122",
   "metadata": {},
   "source": [
    "\n",
    "<section id=\"log_loss\">\n",
    "    <h4> 3.3.7. log_loss </h4>\n",
    "<section id=\"log_loss\">\n"
   ]
  },
  {
   "cell_type": "markdown",
   "id": "11fa71f8-673b-4b2d-817c-26b2329b8db9",
   "metadata": {},
   "source": [
    "\n",
    "- Definition:\n",
    "- Note:\n"
   ]
  },
  {
   "cell_type": "markdown",
   "id": "fd52ba2b-29f2-41f9-89eb-60c6c0b6aafc",
   "metadata": {},
   "source": [
    "\n",
    "<section id=\"multilabel_confusion_matrix\">\n",
    "    <h4> 3.3.8. multilabel_confusion_matrix </h4>\n",
    "<section id=\"multilabel_confusion_matrix\">\n"
   ]
  },
  {
   "cell_type": "markdown",
   "id": "1d82ceb2-cc07-4b37-baa5-30de86171a56",
   "metadata": {},
   "source": [
    "\n",
    "- Definition:\n",
    "- Note:\n"
   ]
  },
  {
   "cell_type": "markdown",
   "id": "54566701-ea83-41cc-a1be-4671e3e6c168",
   "metadata": {},
   "source": [
    "\n",
    "<section id=\"precision_recall_fscore_support\">\n",
    "    <h4> 3.3.9. precision_recall_fscore_support </h4>\n",
    "<section id=\"precision_recall_fscore_support\">\n"
   ]
  },
  {
   "cell_type": "markdown",
   "id": "3ceb3e01-f691-4387-b6e2-0b515ec86aaf",
   "metadata": {},
   "source": [
    "\n",
    "- Definition:\n",
    "- Note:\n"
   ]
  },
  {
   "cell_type": "markdown",
   "id": "63d0637a-06ad-4dc1-a3c5-23328cbb1dd2",
   "metadata": {},
   "source": [
    "\n",
    "<section id=\"precision_score\">\n",
    "    <h4> 3.3.10. precision_score </h4>\n",
    "<section id=\"precision_score\">\n"
   ]
  },
  {
   "cell_type": "markdown",
   "id": "fc18171d-e744-47e7-acd2-a00ceee146bb",
   "metadata": {},
   "source": [
    "\n",
    "- Definition:\n",
    "- Note:\n"
   ]
  },
  {
   "cell_type": "markdown",
   "id": "1f5bb3f5-97aa-4cb2-8438-f95fbc822c03",
   "metadata": {},
   "source": [
    "\n",
    "<section id=\"recall_score\">\n",
    "    <h4> 3.3.11. recall_score </h4>\n",
    "<section id=\"recall_score\">\n"
   ]
  },
  {
   "cell_type": "markdown",
   "id": "cec5595b-0711-4a93-9c68-f3de97469622",
   "metadata": {},
   "source": [
    "\n",
    "- Definition:\n",
    "- Note:\n"
   ]
  },
  {
   "cell_type": "markdown",
   "id": "a0485e8d-e235-47e8-93e6-f409fbcac36e",
   "metadata": {},
   "source": [
    "\n",
    "<section id=\"roc_auc_score\">\n",
    "    <h4> 3.3.12. roc_auc_score </h4>\n",
    "<section id=\"roc_auc_score\">\n"
   ]
  },
  {
   "cell_type": "markdown",
   "id": "f5f9b763-7adc-4f17-90e1-a32e38e8cbc8",
   "metadata": {},
   "source": [
    "\n",
    "- Definition:\n",
    "- Note:\n"
   ]
  },
  {
   "cell_type": "markdown",
   "id": "faeedb16-c1d8-4800-be2e-120c0fd52cf1",
   "metadata": {},
   "source": [
    "\n",
    "<section id=\"zero_one_loss\">\n",
    "    <h4> 3.3.13. zero_one_loss </h4>\n",
    "<section id=\"zero_one_loss\">\n"
   ]
  },
  {
   "cell_type": "markdown",
   "id": "3805802f-85e6-4eae-95b5-fac3df4928e0",
   "metadata": {},
   "source": [
    "\n",
    "- Definition:\n",
    "- Note:\n"
   ]
  },
  {
   "cell_type": "markdown",
   "id": "3fa8a12a-c12c-4191-a30c-517e9df429fd",
   "metadata": {},
   "source": [
    "\n",
    "<section id=\"Clustering\">\n",
    "    <h3> 3.4. Clustering </h3>\n",
    "<section id=\"Clustering\"> \n"
   ]
  },
  {
   "cell_type": "markdown",
   "id": "fe194fb1-7836-4d06-bb27-ecf41f956cf8",
   "metadata": {
    "tags": []
   },
   "source": [
    "\n",
    "<section id=\"Regression\">\n",
    "    <h3> 3.5. Regression </h3>\n",
    "<section id=\"Regression\"> \n"
   ]
  },
  {
   "cell_type": "markdown",
   "id": "5411062d-dcae-4f57-9591-e479c3563a0f",
   "metadata": {},
   "source": [
    "- Supervised model\n",
    "- Decision Trees"
   ]
  },
  {
   "cell_type": "markdown",
   "id": "b042f1b2-4b5c-48eb-a642-3dff1382940f",
   "metadata": {
    "tags": []
   },
   "source": [
    "\n",
    "<section id=\"mean_squared_error\">\n",
    "    <h4> 3.5.1. mean_squared_error </h4>\n",
    "<section id=\"mean_squared_error\">\n"
   ]
  },
  {
   "cell_type": "markdown",
   "id": "e14bf2fa-8db2-4dd0-a2e3-3b75dd9927fa",
   "metadata": {},
   "source": [
    "\n",
    "- Definition:\n",
    "- Note:\n"
   ]
  },
  {
   "cell_type": "code",
   "execution_count": 365,
   "id": "460d3ccf-a443-466b-84ea-c00922337f9a",
   "metadata": {},
   "outputs": [],
   "source": [
    "def evaluation_regression_mse(model, y_pred_test, y_validation, y_pred_validation):\n",
    "    print(f'{model} EVALUATION - REGRESSION - MSE:')\n",
    "    \n",
    "    print('TEST PERFORMANCE:')\n",
    "    mse_test = mean_squared_error(y_test, y_pred_test)\n",
    "    print('TEST MSE: , ', mse_test)\n",
    "    \n",
    "    print('VALIDATION PERFORMANCE:')\n",
    "    mse_validation = mean_squared_error(y_validation, y_pred_validation)\n",
    "    print('VALIDATION MSE: , ', mse_validation)\n",
    "    \n",
    "    "
   ]
  },
  {
   "cell_type": "markdown",
   "id": "f35eff57-5b1b-4ddd-bc9b-e1ac860a4d59",
   "metadata": {},
   "source": [
    "\n",
    "---\n"
   ]
  },
  {
   "cell_type": "markdown",
   "id": "e10ec4b2-ff98-466e-86d7-e31cc69cda87",
   "metadata": {},
   "source": [
    "\n",
    "## 4. Results\n"
   ]
  },
  {
   "cell_type": "markdown",
   "id": "b4641dcd-2eff-4f2a-bbd4-01854b1bce1c",
   "metadata": {
    "jp-MarkdownHeadingCollapsed": true,
    "tags": []
   },
   "source": [
    "\n",
    "<section id=\"ResultsBinary\">\n",
    "    <h3> 4.1. Binary Classification </h3>\n",
    "<section id=\"ResultsBinary\">\n"
   ]
  },
  {
   "cell_type": "code",
   "execution_count": 47,
   "id": "83024917-5a06-4aa6-86eb-42a1ba79f734",
   "metadata": {},
   "outputs": [],
   "source": [
    "y_pred_proba = pd.DataFrame(y_pred_test_rf)"
   ]
  },
  {
   "cell_type": "code",
   "execution_count": 139,
   "id": "759f6c84-5b40-423c-bbac-a74b05959e52",
   "metadata": {},
   "outputs": [
    {
     "name": "stdout",
     "output_type": "stream",
     "text": [
      "ROC AUC:  50.447570332480815\n",
      "PR AUC:  0.7228586171310629\n",
      "Confusion matrix:\n",
      "[[0.15789474 0.24561404]\n",
      " [0.22807018 0.36842105]]\n"
     ]
    },
    {
     "data": {
      "image/png": "[encoded data removed]",
      "text/plain": [
       "<Figure size 1500x1500 with 7 Axes>"
      ]
     },
     "metadata": {},
     "output_type": "display_data"
    }
   ],
   "source": [
    "evaluation_BinaryClassification_graphs('rf', y_pred_test_rf, 0.6, X_validation)"
   ]
  },
  {
   "cell_type": "code",
   "execution_count": 81,
   "id": "a7c9c07f-6632-4264-9647-94fdf2de1737",
   "metadata": {},
   "outputs": [
    {
     "ename": "ValueError",
     "evalue": "If using all scalar values, you must pass an index",
     "output_type": "error",
     "traceback": [
      "\u001b[0;31m---------------------------------------------------------------------------\u001b[0m",
      "\u001b[0;31mValueError\u001b[0m                                Traceback (most recent call last)",
      "Cell \u001b[0;32mIn[81], line 2\u001b[0m\n\u001b[1;32m      1\u001b[0m evaluation_BinaryClassification_tables(\u001b[38;5;124m'\u001b[39m\u001b[38;5;124mrf\u001b[39m\u001b[38;5;124m'\u001b[39m, final_model_rf, X_test, y_test,\n\u001b[0;32m----> 2\u001b[0m                                        data\u001b[38;5;241m=\u001b[39mpd\u001b[38;5;241m.\u001b[39mDataFrame(data\u001b[38;5;241m=\u001b[39m{\u001b[38;5;124m'\u001b[39m\u001b[38;5;124mtarget\u001b[39m\u001b[38;5;124m'\u001b[39m:y_test, \u001b[38;5;124m'\u001b[39m\u001b[38;5;124mtarget\u001b[39m\u001b[38;5;124m'\u001b[39m:y_pred_proba}),\n\u001b[1;32m      3\u001b[0m                                        target\u001b[38;5;241m=\u001b[39m\u001b[38;5;124m'\u001b[39m\u001b[38;5;124mtarget\u001b[39m\u001b[38;5;124m'\u001b[39m, prob\u001b[38;5;241m=\u001b[39m\u001b[38;5;124m'\u001b[39m\u001b[38;5;124mtarget\u001b[39m\u001b[38;5;124m'\u001b[39m)\n",
      "File \u001b[0;32m/opt/conda/envs/anaconda-panel-2023.05-py310/lib/python3.11/site-packages/pandas/core/frame.py:664\u001b[0m, in \u001b[0;36mDataFrame.__init__\u001b[0;34m(self, data, index, columns, dtype, copy)\u001b[0m\n\u001b[1;32m    658\u001b[0m     mgr \u001b[38;5;241m=\u001b[39m \u001b[38;5;28mself\u001b[39m\u001b[38;5;241m.\u001b[39m_init_mgr(\n\u001b[1;32m    659\u001b[0m         data, axes\u001b[38;5;241m=\u001b[39m{\u001b[38;5;124m\"\u001b[39m\u001b[38;5;124mindex\u001b[39m\u001b[38;5;124m\"\u001b[39m: index, \u001b[38;5;124m\"\u001b[39m\u001b[38;5;124mcolumns\u001b[39m\u001b[38;5;124m\"\u001b[39m: columns}, dtype\u001b[38;5;241m=\u001b[39mdtype, copy\u001b[38;5;241m=\u001b[39mcopy\n\u001b[1;32m    660\u001b[0m     )\n\u001b[1;32m    662\u001b[0m \u001b[38;5;28;01melif\u001b[39;00m \u001b[38;5;28misinstance\u001b[39m(data, \u001b[38;5;28mdict\u001b[39m):\n\u001b[1;32m    663\u001b[0m     \u001b[38;5;66;03m# GH#38939 de facto copy defaults to False only in non-dict cases\u001b[39;00m\n\u001b[0;32m--> 664\u001b[0m     mgr \u001b[38;5;241m=\u001b[39m dict_to_mgr(data, index, columns, dtype\u001b[38;5;241m=\u001b[39mdtype, copy\u001b[38;5;241m=\u001b[39mcopy, typ\u001b[38;5;241m=\u001b[39mmanager)\n\u001b[1;32m    665\u001b[0m \u001b[38;5;28;01melif\u001b[39;00m \u001b[38;5;28misinstance\u001b[39m(data, ma\u001b[38;5;241m.\u001b[39mMaskedArray):\n\u001b[1;32m    666\u001b[0m     \u001b[38;5;28;01mimport\u001b[39;00m \u001b[38;5;21;01mnumpy\u001b[39;00m\u001b[38;5;21;01m.\u001b[39;00m\u001b[38;5;21;01mma\u001b[39;00m\u001b[38;5;21;01m.\u001b[39;00m\u001b[38;5;21;01mmrecords\u001b[39;00m \u001b[38;5;28;01mas\u001b[39;00m \u001b[38;5;21;01mmrecords\u001b[39;00m\n",
      "File \u001b[0;32m/opt/conda/envs/anaconda-panel-2023.05-py310/lib/python3.11/site-packages/pandas/core/internals/construction.py:493\u001b[0m, in \u001b[0;36mdict_to_mgr\u001b[0;34m(data, index, columns, dtype, typ, copy)\u001b[0m\n\u001b[1;32m    489\u001b[0m     \u001b[38;5;28;01melse\u001b[39;00m:\n\u001b[1;32m    490\u001b[0m         \u001b[38;5;66;03m# dtype check to exclude e.g. range objects, scalars\u001b[39;00m\n\u001b[1;32m    491\u001b[0m         arrays \u001b[38;5;241m=\u001b[39m [x\u001b[38;5;241m.\u001b[39mcopy() \u001b[38;5;28;01mif\u001b[39;00m \u001b[38;5;28mhasattr\u001b[39m(x, \u001b[38;5;124m\"\u001b[39m\u001b[38;5;124mdtype\u001b[39m\u001b[38;5;124m\"\u001b[39m) \u001b[38;5;28;01melse\u001b[39;00m x \u001b[38;5;28;01mfor\u001b[39;00m x \u001b[38;5;129;01min\u001b[39;00m arrays]\n\u001b[0;32m--> 493\u001b[0m \u001b[38;5;28;01mreturn\u001b[39;00m arrays_to_mgr(arrays, columns, index, dtype\u001b[38;5;241m=\u001b[39mdtype, typ\u001b[38;5;241m=\u001b[39mtyp, consolidate\u001b[38;5;241m=\u001b[39mcopy)\n",
      "File \u001b[0;32m/opt/conda/envs/anaconda-panel-2023.05-py310/lib/python3.11/site-packages/pandas/core/internals/construction.py:118\u001b[0m, in \u001b[0;36marrays_to_mgr\u001b[0;34m(arrays, columns, index, dtype, verify_integrity, typ, consolidate)\u001b[0m\n\u001b[1;32m    115\u001b[0m \u001b[38;5;28;01mif\u001b[39;00m verify_integrity:\n\u001b[1;32m    116\u001b[0m     \u001b[38;5;66;03m# figure out the index, if necessary\u001b[39;00m\n\u001b[1;32m    117\u001b[0m     \u001b[38;5;28;01mif\u001b[39;00m index \u001b[38;5;129;01mis\u001b[39;00m \u001b[38;5;28;01mNone\u001b[39;00m:\n\u001b[0;32m--> 118\u001b[0m         index \u001b[38;5;241m=\u001b[39m _extract_index(arrays)\n\u001b[1;32m    119\u001b[0m     \u001b[38;5;28;01melse\u001b[39;00m:\n\u001b[1;32m    120\u001b[0m         index \u001b[38;5;241m=\u001b[39m ensure_index(index)\n",
      "File \u001b[0;32m/opt/conda/envs/anaconda-panel-2023.05-py310/lib/python3.11/site-packages/pandas/core/internals/construction.py:656\u001b[0m, in \u001b[0;36m_extract_index\u001b[0;34m(data)\u001b[0m\n\u001b[1;32m    653\u001b[0m         \u001b[38;5;28;01mraise\u001b[39;00m \u001b[38;5;167;01mValueError\u001b[39;00m(\u001b[38;5;124m\"\u001b[39m\u001b[38;5;124mPer-column arrays must each be 1-dimensional\u001b[39m\u001b[38;5;124m\"\u001b[39m)\n\u001b[1;32m    655\u001b[0m \u001b[38;5;28;01mif\u001b[39;00m \u001b[38;5;129;01mnot\u001b[39;00m indexes \u001b[38;5;129;01mand\u001b[39;00m \u001b[38;5;129;01mnot\u001b[39;00m raw_lengths:\n\u001b[0;32m--> 656\u001b[0m     \u001b[38;5;28;01mraise\u001b[39;00m \u001b[38;5;167;01mValueError\u001b[39;00m(\u001b[38;5;124m\"\u001b[39m\u001b[38;5;124mIf using all scalar values, you must pass an index\u001b[39m\u001b[38;5;124m\"\u001b[39m)\n\u001b[1;32m    658\u001b[0m \u001b[38;5;28;01melif\u001b[39;00m have_series:\n\u001b[1;32m    659\u001b[0m     index \u001b[38;5;241m=\u001b[39m union_indexes(indexes)\n",
      "\u001b[0;31mValueError\u001b[0m: If using all scalar values, you must pass an index"
     ]
    }
   ],
   "source": [
    "evaluation_BinaryClassification_tables('rf', final_model_rf, X_test, y_test,\n",
    "                                       data=pd.DataFrame(data={'target':y_test, 'target':y_pred_proba}),\n",
    "                                       target='target', prob='target')"
   ]
  },
  {
   "cell_type": "markdown",
   "id": "06b68c6e-4a3c-44b9-9d8f-f2a30439e16b",
   "metadata": {},
   "source": [
    "\n",
    "<section id=\"ResultsMulticlass\">\n",
    "    <h3> 4.2. Multiclass Classification </h3>\n",
    "<section id=\"ResultsMulticlass\">\n"
   ]
  },
  {
   "cell_type": "markdown",
   "id": "4a54d4b1-5fa5-46c3-af8a-698ca119e4d1",
   "metadata": {},
   "source": [
    "\n",
    "<section id=\"ResultsMultilabel\">\n",
    "    <h3> 4.3. Multilabel Classification </h3>\n",
    "<section id=\"ResultsMultilabel\">\n"
   ]
  },
  {
   "cell_type": "markdown",
   "id": "7fd208e3-1024-4dc2-a481-5e0fd8ed1adc",
   "metadata": {},
   "source": [
    "\n",
    "<section id=\"ResultsClustering\">\n",
    "    <h3> 4.4. Clustering </h3>\n",
    "<section id=\"ResultsClustering\">\n"
   ]
  },
  {
   "cell_type": "markdown",
   "id": "e7f2d617-dbe2-458f-bd01-433f6e88316a",
   "metadata": {},
   "source": [
    "\n",
    "<section id=\"ResultsRegression\">\n",
    "    <h3> 4.5. Regression </h3>\n",
    "<section id=\"ResultsRegression\">\n"
   ]
  },
  {
   "cell_type": "code",
   "execution_count": null,
   "id": "b594ca2b-9a4f-4977-b29c-f4032e727847",
   "metadata": {},
   "outputs": [],
   "source": []
  }
 ],
 "metadata": {
  "kernelspec": {
   "display_name": "anaconda-panel-2023.05-py310",
   "language": "python",
   "name": "conda-env-anaconda-panel-2023.05-py310-py"
  },
  "language_info": {
   "codemirror_mode": {
    "name": "ipython",
    "version": 3
   },
   "file_extension": ".py",
   "mimetype": "text/x-python",
   "name": "python",
   "nbconvert_exporter": "python",
   "pygments_lexer": "ipython3",
   "version": "3.11.4"
  }
 },
 "nbformat": 4,
 "nbformat_minor": 5
}
